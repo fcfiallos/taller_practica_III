{
 "cells": [
  {
   "cell_type": "code",
   "execution_count": 1,
   "id": "6911d37c-461a-49c0-b0c3-7ac1f3978cf8",
   "metadata": {},
   "outputs": [
    {
     "name": "stderr",
     "output_type": "stream",
     "text": [
      "Setting default log level to \"WARN\".\n",
      "To adjust logging level use sc.setLogLevel(newLevel). For SparkR, use setLogLevel(newLevel).\n",
      "25/06/17 06:20:26 WARN NativeCodeLoader: Unable to load native-hadoop library for your platform... using builtin-java classes where applicable\n"
     ]
    }
   ],
   "source": [
    "from pyspark.sql import SparkSession\n",
    "\n",
    "# Iniciar Sesión de Spark\n",
    "spark = SparkSession.builder \\\n",
    "    .appName(\"RedditTextETL\") \\\n",
    "    .master(\"spark://spark-master:7077\") \\\n",
    "    .getOrCreate()"
   ]
  },
  {
   "cell_type": "code",
   "execution_count": 5,
   "id": "644616b6-609d-4f1e-bea5-86c194b35768",
   "metadata": {},
   "outputs": [],
   "source": [
    "file_path = \"hdfs://namenode:8020/data/reddit_depression_dataset.csv\""
   ]
  },
  {
   "cell_type": "code",
   "execution_count": 6,
   "id": "570eb11d-dfa2-4f1c-b4bd-d7e1c711e854",
   "metadata": {},
   "outputs": [
    {
     "name": "stderr",
     "output_type": "stream",
     "text": [
      "                                                                                "
     ]
    }
   ],
   "source": [
    "df_spark = spark.read.csv(\n",
    "    file_path,\n",
    "    header=True,\n",
    "    inferSchema=True,\n",
    "    escape='\"' # Buena práctica para manejar comillas\n",
    ")"
   ]
  },
  {
   "cell_type": "code",
   "execution_count": 7,
   "id": "6a113d87-77f3-44da-a1a0-5816d136dc0b",
   "metadata": {},
   "outputs": [
    {
     "name": "stdout",
     "output_type": "stream",
     "text": [
      "root\n",
      " |-- _c0: string (nullable = true)\n",
      " |-- subreddit: string (nullable = true)\n",
      " |-- title: string (nullable = true)\n",
      " |-- body: string (nullable = true)\n",
      " |-- upvotes: string (nullable = true)\n",
      " |-- created_utc: string (nullable = true)\n",
      " |-- num_comments: string (nullable = true)\n",
      " |-- label: string (nullable = true)\n",
      "\n",
      "+--------------------------------------------------+-----------------------+--------------------------------------------------+--------------------------------------------------+-------+-----------+------------+-----+\n",
      "|                                               _c0|              subreddit|                                             title|                                              body|upvotes|created_utc|num_comments|label|\n",
      "+--------------------------------------------------+-----------------------+--------------------------------------------------+--------------------------------------------------+-------+-----------+------------+-----+\n",
      "|                                             47951|           DeepThoughts|                            Deep thoughts underdog|Only when we start considering ourselves, the 9...|      4| 1405308909|        NULL|    0|\n",
      "|                                             47952|           DeepThoughts|I like this sub, there's only two posts yet I k...|Anyway: Human Morality is a joke so long as the...|      4| 1410568279|           1|    0|\n",
      "|                                             47957|           DeepThoughts|                                          Rebirth!|                                           Hello. |   NULL|       NULL|        NULL| NULL|\n",
      "|I am the new guy in charge here (Besides TheGoo...| I bring WeirdPineapple| you may know him from [r/IntrusiveThoughts] (h...|                                              NULL|   NULL|       NULL|        NULL| NULL|\n",
      "|                                        Have fun!\"|                      6|                                        1416457918|                                                 1|      0|       NULL|        NULL| NULL|\n",
      "+--------------------------------------------------+-----------------------+--------------------------------------------------+--------------------------------------------------+-------+-----------+------------+-----+\n",
      "only showing top 5 rows\n",
      "\n"
     ]
    }
   ],
   "source": [
    "df_spark.printSchema()\n",
    "df_spark.show(5, truncate=50)"
   ]
  },
  {
   "cell_type": "code",
   "execution_count": null,
   "id": "44b4645d-46e8-413c-a0a4-d07c7e251457",
   "metadata": {},
   "outputs": [],
   "source": []
  }
 ],
 "metadata": {
  "kernelspec": {
   "display_name": "Python 3 (ipykernel)",
   "language": "python",
   "name": "python3"
  },
  "language_info": {
   "codemirror_mode": {
    "name": "ipython",
    "version": 3
   },
   "file_extension": ".py",
   "mimetype": "text/x-python",
   "name": "python",
   "nbconvert_exporter": "python",
   "pygments_lexer": "ipython3",
   "version": "3.12.10"
  }
 },
 "nbformat": 4,
 "nbformat_minor": 5
}
